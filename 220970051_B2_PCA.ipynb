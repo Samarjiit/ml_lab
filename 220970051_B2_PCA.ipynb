{
 "cells": [
  {
   "cell_type": "code",
   "execution_count": 5,
   "id": "a1b0b067",
   "metadata": {},
   "outputs": [],
   "source": [
    "import pandas as pd\n",
    "import numpy as np\n",
    "import array as arr"
   ]
  },
  {
   "cell_type": "code",
   "execution_count": 3,
   "id": "c2d84adc",
   "metadata": {},
   "outputs": [],
   "source": [
    "df=pd.read_csv(\"C:/Users/mca/Documents/sample_week8.csv\")"
   ]
  },
  {
   "cell_type": "code",
   "execution_count": 4,
   "id": "b9a5bdfb",
   "metadata": {},
   "outputs": [
    {
     "data": {
      "text/html": [
       "<div>\n",
       "<style scoped>\n",
       "    .dataframe tbody tr th:only-of-type {\n",
       "        vertical-align: middle;\n",
       "    }\n",
       "\n",
       "    .dataframe tbody tr th {\n",
       "        vertical-align: top;\n",
       "    }\n",
       "\n",
       "    .dataframe thead th {\n",
       "        text-align: right;\n",
       "    }\n",
       "</style>\n",
       "<table border=\"1\" class=\"dataframe\">\n",
       "  <thead>\n",
       "    <tr style=\"text-align: right;\">\n",
       "      <th></th>\n",
       "      <th>Rainfall</th>\n",
       "      <th>Runoff</th>\n",
       "    </tr>\n",
       "  </thead>\n",
       "  <tbody>\n",
       "    <tr>\n",
       "      <th>0</th>\n",
       "      <td>105</td>\n",
       "      <td>42</td>\n",
       "    </tr>\n",
       "    <tr>\n",
       "      <th>1</th>\n",
       "      <td>115</td>\n",
       "      <td>46</td>\n",
       "    </tr>\n",
       "    <tr>\n",
       "      <th>2</th>\n",
       "      <td>103</td>\n",
       "      <td>26</td>\n",
       "    </tr>\n",
       "    <tr>\n",
       "      <th>3</th>\n",
       "      <td>94</td>\n",
       "      <td>39</td>\n",
       "    </tr>\n",
       "    <tr>\n",
       "      <th>4</th>\n",
       "      <td>95</td>\n",
       "      <td>29</td>\n",
       "    </tr>\n",
       "    <tr>\n",
       "      <th>5</th>\n",
       "      <td>104</td>\n",
       "      <td>33</td>\n",
       "    </tr>\n",
       "    <tr>\n",
       "      <th>6</th>\n",
       "      <td>120</td>\n",
       "      <td>48</td>\n",
       "    </tr>\n",
       "    <tr>\n",
       "      <th>7</th>\n",
       "      <td>121</td>\n",
       "      <td>58</td>\n",
       "    </tr>\n",
       "    <tr>\n",
       "      <th>8</th>\n",
       "      <td>127</td>\n",
       "      <td>45</td>\n",
       "    </tr>\n",
       "    <tr>\n",
       "      <th>9</th>\n",
       "      <td>79</td>\n",
       "      <td>20</td>\n",
       "    </tr>\n",
       "    <tr>\n",
       "      <th>10</th>\n",
       "      <td>133</td>\n",
       "      <td>54</td>\n",
       "    </tr>\n",
       "    <tr>\n",
       "      <th>11</th>\n",
       "      <td>111</td>\n",
       "      <td>37</td>\n",
       "    </tr>\n",
       "    <tr>\n",
       "      <th>12</th>\n",
       "      <td>127</td>\n",
       "      <td>39</td>\n",
       "    </tr>\n",
       "    <tr>\n",
       "      <th>13</th>\n",
       "      <td>108</td>\n",
       "      <td>34</td>\n",
       "    </tr>\n",
       "    <tr>\n",
       "      <th>14</th>\n",
       "      <td>85</td>\n",
       "      <td>25</td>\n",
       "    </tr>\n",
       "  </tbody>\n",
       "</table>\n",
       "</div>"
      ],
      "text/plain": [
       "    Rainfall  Runoff\n",
       "0        105      42\n",
       "1        115      46\n",
       "2        103      26\n",
       "3         94      39\n",
       "4         95      29\n",
       "5        104      33\n",
       "6        120      48\n",
       "7        121      58\n",
       "8        127      45\n",
       "9         79      20\n",
       "10       133      54\n",
       "11       111      37\n",
       "12       127      39\n",
       "13       108      34\n",
       "14        85      25"
      ]
     },
     "execution_count": 4,
     "metadata": {},
     "output_type": "execute_result"
    }
   ],
   "source": [
    "df"
   ]
  },
  {
   "cell_type": "code",
   "execution_count": 7,
   "id": "52bd913d",
   "metadata": {},
   "outputs": [],
   "source": [
    "org=np.array(df)"
   ]
  },
  {
   "cell_type": "code",
   "execution_count": 10,
   "id": "c91674d0",
   "metadata": {},
   "outputs": [
    {
     "data": {
      "text/plain": [
       "array([108.46666667,  38.33333333])"
      ]
     },
     "execution_count": 10,
     "metadata": {},
     "output_type": "execute_result"
    }
   ],
   "source": [
    "mean=np.mean(org,axis=0)\n",
    "mean"
   ]
  },
  {
   "cell_type": "code",
   "execution_count": 12,
   "id": "7cf7b080",
   "metadata": {},
   "outputs": [
    {
     "data": {
      "text/plain": [
       "array([[ -3.46666667,   3.66666667],\n",
       "       [  6.53333333,   7.66666667],\n",
       "       [ -5.46666667, -12.33333333],\n",
       "       [-14.46666667,   0.66666667],\n",
       "       [-13.46666667,  -9.33333333],\n",
       "       [ -4.46666667,  -5.33333333],\n",
       "       [ 11.53333333,   9.66666667],\n",
       "       [ 12.53333333,  19.66666667],\n",
       "       [ 18.53333333,   6.66666667],\n",
       "       [-29.46666667, -18.33333333],\n",
       "       [ 24.53333333,  15.66666667],\n",
       "       [  2.53333333,  -1.33333333],\n",
       "       [ 18.53333333,   0.66666667],\n",
       "       [ -0.46666667,  -4.33333333],\n",
       "       [-23.46666667, -13.33333333]])"
      ]
     },
     "execution_count": 12,
     "metadata": {},
     "output_type": "execute_result"
    }
   ],
   "source": [
    "mean_data=org-mean\n",
    "mean_data"
   ]
  },
  {
   "cell_type": "code",
   "execution_count": 40,
   "id": "f25b8d4a",
   "metadata": {},
   "outputs": [
    {
     "data": {
      "text/plain": [
       "array([[249.98095238, 141.04761905],\n",
       "       [141.04761905, 117.52380952]])"
      ]
     },
     "execution_count": 40,
     "metadata": {},
     "output_type": "execute_result"
    }
   ],
   "source": [
    "cov=np.cov(mean_data.T)\n",
    "cov"
   ]
  },
  {
   "cell_type": "code",
   "execution_count": 19,
   "id": "854367de",
   "metadata": {},
   "outputs": [
    {
     "data": {
      "text/plain": [
       "15"
      ]
     },
     "execution_count": 19,
     "metadata": {},
     "output_type": "execute_result"
    }
   ],
   "source": [
    "len(mean_data)"
   ]
  },
  {
   "cell_type": "code",
   "execution_count": 41,
   "id": "60c08324",
   "metadata": {},
   "outputs": [
    {
     "data": {
      "text/plain": [
       "array([105, 115, 103,  94,  95, 104, 120, 121, 127,  79, 133, 111, 127,\n",
       "       108,  85], dtype=int64)"
      ]
     },
     "execution_count": 41,
     "metadata": {},
     "output_type": "execute_result"
    }
   ],
   "source": [
    "x=org[:,0]\n",
    "x"
   ]
  },
  {
   "cell_type": "code",
   "execution_count": 42,
   "id": "2fb7d92b",
   "metadata": {},
   "outputs": [
    {
     "data": {
      "text/plain": [
       "array([42, 46, 26, 39, 29, 33, 48, 58, 45, 20, 54, 37, 39, 34, 25],\n",
       "      dtype=int64)"
      ]
     },
     "execution_count": 42,
     "metadata": {},
     "output_type": "execute_result"
    }
   ],
   "source": [
    "y=org[:,1]\n",
    "y"
   ]
  },
  {
   "cell_type": "code",
   "execution_count": null,
   "id": "1ce93185",
   "metadata": {},
   "outputs": [],
   "source": []
  },
  {
   "cell_type": "code",
   "execution_count": 52,
   "id": "d206f7b0",
   "metadata": {},
   "outputs": [
    {
     "data": {
      "text/plain": [
       "array([105, 115, 103,  94,  95, 104, 120, 121, 127,  79, 133, 111, 127,\n",
       "       108,  85], dtype=int64)"
      ]
     },
     "execution_count": 52,
     "metadata": {},
     "output_type": "execute_result"
    }
   ],
   "source": [
    "x"
   ]
  },
  {
   "cell_type": "code",
   "execution_count": null,
   "id": "7902e5aa",
   "metadata": {},
   "outputs": [],
   "source": []
  },
  {
   "cell_type": "code",
   "execution_count": 55,
   "id": "f6e733a5",
   "metadata": {},
   "outputs": [
    {
     "data": {
      "text/plain": [
       "array([[249.98095238, 141.04761905],\n",
       "       [141.04761905, 117.52380952]])"
      ]
     },
     "execution_count": 55,
     "metadata": {},
     "output_type": "execute_result"
    }
   ],
   "source": [
    "np.cov(x,y)"
   ]
  },
  {
   "cell_type": "code",
   "execution_count": 44,
   "id": "28ebab88",
   "metadata": {},
   "outputs": [
    {
     "name": "stdout",
     "output_type": "stream",
     "text": [
      "Eigen vectors  [[ 0.84410476 -0.53617828]\n",
      " [ 0.53617828  0.84410476]]\n",
      "\n",
      "Eigen values  [339.5748906   27.92987131]\n"
     ]
    }
   ],
   "source": [
    "eig_val,eig_vec=np.linalg.eig(cov)\n",
    "print(\"Eigen vectors \",eig_vec)\n",
    "print(\"\\nEigen values \",eig_val)"
   ]
  },
  {
   "cell_type": "code",
   "execution_count": 56,
   "id": "c7ff0f31",
   "metadata": {},
   "outputs": [
    {
     "data": {
      "text/plain": [
       "367.5047619047618"
      ]
     },
     "execution_count": 56,
     "metadata": {},
     "output_type": "execute_result"
    }
   ],
   "source": [
    "eig_sum=sum(eig_val)\n",
    "eig_sum"
   ]
  },
  {
   "cell_type": "code",
   "execution_count": null,
   "id": "c53106b1",
   "metadata": {},
   "outputs": [],
   "source": []
  },
  {
   "cell_type": "code",
   "execution_count": null,
   "id": "fa557313",
   "metadata": {},
   "outputs": [],
   "source": []
  },
  {
   "cell_type": "code",
   "execution_count": null,
   "id": "58000f20",
   "metadata": {},
   "outputs": [],
   "source": []
  },
  {
   "cell_type": "code",
   "execution_count": null,
   "id": "ae11ffd7",
   "metadata": {},
   "outputs": [],
   "source": []
  },
  {
   "cell_type": "code",
   "execution_count": null,
   "id": "5b0a5487",
   "metadata": {},
   "outputs": [],
   "source": []
  },
  {
   "cell_type": "code",
   "execution_count": null,
   "id": "e7282f78",
   "metadata": {},
   "outputs": [],
   "source": []
  },
  {
   "cell_type": "code",
   "execution_count": null,
   "id": "3d81fc5d",
   "metadata": {},
   "outputs": [],
   "source": []
  },
  {
   "cell_type": "code",
   "execution_count": null,
   "id": "6be5fe17",
   "metadata": {},
   "outputs": [],
   "source": []
  }
 ],
 "metadata": {
  "kernelspec": {
   "display_name": "Python 3 (ipykernel)",
   "language": "python",
   "name": "python3"
  },
  "language_info": {
   "codemirror_mode": {
    "name": "ipython",
    "version": 3
   },
   "file_extension": ".py",
   "mimetype": "text/x-python",
   "name": "python",
   "nbconvert_exporter": "python",
   "pygments_lexer": "ipython3",
   "version": "3.11.4"
  }
 },
 "nbformat": 4,
 "nbformat_minor": 5
}
